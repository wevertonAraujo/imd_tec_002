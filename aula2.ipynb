{
  "nbformat": 4,
  "nbformat_minor": 0,
  "metadata": {
    "colab": {
      "name": "aula2.ipynb",
      "provenance": [],
      "authorship_tag": "ABX9TyMN3Ha5pH8LOsZ8kdAGRyZ8",
      "include_colab_link": true
    },
    "kernelspec": {
      "name": "python3",
      "display_name": "Python 3"
    }
  },
  "cells": [
    {
      "cell_type": "markdown",
      "metadata": {
        "id": "view-in-github",
        "colab_type": "text"
      },
      "source": [
        "<a href=\"https://colab.research.google.com/github/wevertonAraujo/imd_tec_002/blob/Meu-Ramo/aula2.ipynb\" target=\"_parent\"><img src=\"https://colab.research.google.com/assets/colab-badge.svg\" alt=\"Open In Colab\"/></a>"
      ]
    },
    {
      "cell_type": "markdown",
      "metadata": {
        "id": "ms-VkP5DM0V8",
        "colab_type": "text"
      },
      "source": [
        "Aula 02"
      ]
    },
    {
      "cell_type": "code",
      "metadata": {
        "id": "yWEjITA8M3MB",
        "colab_type": "code",
        "colab": {}
      },
      "source": [
        "# Importando as Bibiotecas\n",
        "import pandas as pd"
      ],
      "execution_count": 3,
      "outputs": []
    },
    {
      "cell_type": "code",
      "metadata": {
        "id": "HSd2jvg4Vfa5",
        "colab_type": "code",
        "colab": {
          "base_uri": "https://localhost:8080/",
          "height": 419
        },
        "outputId": "162bd79c-c915-4427-9338-a60be3308ad2"
      },
      "source": [
        "df = pd.read_csv('https://raw.githubusercontent.com/wevertonAraujo/projeto_final_python_4_cidades/master/dados/dados_covid19_cidade_parnamirim.csv')\n",
        "df"
      ],
      "execution_count": 2,
      "outputs": [
        {
          "output_type": "execute_result",
          "data": {
            "text/html": [
              "<div>\n",
              "<style scoped>\n",
              "    .dataframe tbody tr th:only-of-type {\n",
              "        vertical-align: middle;\n",
              "    }\n",
              "\n",
              "    .dataframe tbody tr th {\n",
              "        vertical-align: top;\n",
              "    }\n",
              "\n",
              "    .dataframe thead th {\n",
              "        text-align: right;\n",
              "    }\n",
              "</style>\n",
              "<table border=\"1\" class=\"dataframe\">\n",
              "  <thead>\n",
              "    <tr style=\"text-align: right;\">\n",
              "      <th></th>\n",
              "      <th>Data</th>\n",
              "      <th>Cidade</th>\n",
              "      <th>Total_Confirmados</th>\n",
              "      <th>Confirmados_Dia</th>\n",
              "      <th>Total_Obitos</th>\n",
              "      <th>Obitos_Dia</th>\n",
              "    </tr>\n",
              "  </thead>\n",
              "  <tbody>\n",
              "    <tr>\n",
              "      <th>0</th>\n",
              "      <td>20/03</td>\n",
              "      <td>Parnamirim</td>\n",
              "      <td>1</td>\n",
              "      <td>1</td>\n",
              "      <td>0</td>\n",
              "      <td>0</td>\n",
              "    </tr>\n",
              "    <tr>\n",
              "      <th>1</th>\n",
              "      <td>21/03</td>\n",
              "      <td>Parnamirim</td>\n",
              "      <td>2</td>\n",
              "      <td>1</td>\n",
              "      <td>0</td>\n",
              "      <td>0</td>\n",
              "    </tr>\n",
              "    <tr>\n",
              "      <th>2</th>\n",
              "      <td>22/03</td>\n",
              "      <td>Parnamirim</td>\n",
              "      <td>3</td>\n",
              "      <td>1</td>\n",
              "      <td>0</td>\n",
              "      <td>0</td>\n",
              "    </tr>\n",
              "    <tr>\n",
              "      <th>3</th>\n",
              "      <td>23/03</td>\n",
              "      <td>Parnamirim</td>\n",
              "      <td>3</td>\n",
              "      <td>0</td>\n",
              "      <td>0</td>\n",
              "      <td>0</td>\n",
              "    </tr>\n",
              "    <tr>\n",
              "      <th>4</th>\n",
              "      <td>24/03</td>\n",
              "      <td>Parnamirim</td>\n",
              "      <td>4</td>\n",
              "      <td>1</td>\n",
              "      <td>0</td>\n",
              "      <td>0</td>\n",
              "    </tr>\n",
              "    <tr>\n",
              "      <th>...</th>\n",
              "      <td>...</td>\n",
              "      <td>...</td>\n",
              "      <td>...</td>\n",
              "      <td>...</td>\n",
              "      <td>...</td>\n",
              "      <td>...</td>\n",
              "    </tr>\n",
              "    <tr>\n",
              "      <th>85</th>\n",
              "      <td>13/06</td>\n",
              "      <td>Parnamirim</td>\n",
              "      <td>1315</td>\n",
              "      <td>0</td>\n",
              "      <td>30</td>\n",
              "      <td>0</td>\n",
              "    </tr>\n",
              "    <tr>\n",
              "      <th>86</th>\n",
              "      <td>14/06</td>\n",
              "      <td>Parnamirim</td>\n",
              "      <td>1376</td>\n",
              "      <td>61</td>\n",
              "      <td>34</td>\n",
              "      <td>4</td>\n",
              "    </tr>\n",
              "    <tr>\n",
              "      <th>87</th>\n",
              "      <td>15/06</td>\n",
              "      <td>Parnamirim</td>\n",
              "      <td>1462</td>\n",
              "      <td>86</td>\n",
              "      <td>41</td>\n",
              "      <td>7</td>\n",
              "    </tr>\n",
              "    <tr>\n",
              "      <th>88</th>\n",
              "      <td>16/06</td>\n",
              "      <td>Parnamirim</td>\n",
              "      <td>1462</td>\n",
              "      <td>0</td>\n",
              "      <td>41</td>\n",
              "      <td>0</td>\n",
              "    </tr>\n",
              "    <tr>\n",
              "      <th>89</th>\n",
              "      <td>17/06</td>\n",
              "      <td>Parnamirim</td>\n",
              "      <td>1462</td>\n",
              "      <td>0</td>\n",
              "      <td>41</td>\n",
              "      <td>0</td>\n",
              "    </tr>\n",
              "  </tbody>\n",
              "</table>\n",
              "<p>90 rows × 6 columns</p>\n",
              "</div>"
            ],
            "text/plain": [
              "     Data      Cidade  ...  Total_Obitos  Obitos_Dia\n",
              "0   20/03  Parnamirim  ...             0           0\n",
              "1   21/03  Parnamirim  ...             0           0\n",
              "2   22/03  Parnamirim  ...             0           0\n",
              "3   23/03  Parnamirim  ...             0           0\n",
              "4   24/03  Parnamirim  ...             0           0\n",
              "..    ...         ...  ...           ...         ...\n",
              "85  13/06  Parnamirim  ...            30           0\n",
              "86  14/06  Parnamirim  ...            34           4\n",
              "87  15/06  Parnamirim  ...            41           7\n",
              "88  16/06  Parnamirim  ...            41           0\n",
              "89  17/06  Parnamirim  ...            41           0\n",
              "\n",
              "[90 rows x 6 columns]"
            ]
          },
          "metadata": {
            "tags": []
          },
          "execution_count": 2
        }
      ]
    }
  ]
}