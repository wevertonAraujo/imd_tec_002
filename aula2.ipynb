{
  "nbformat": 4,
  "nbformat_minor": 0,
  "metadata": {
    "colab": {
      "name": "aula2.ipynb",
      "provenance": [],
      "authorship_tag": "ABX9TyOOajhnJpeigbnCCDDEFtNl",
      "include_colab_link": true
    },
    "kernelspec": {
      "name": "python3",
      "display_name": "Python 3"
    }
  },
  "cells": [
    {
      "cell_type": "markdown",
      "metadata": {
        "id": "view-in-github",
        "colab_type": "text"
      },
      "source": [
        "<a href=\"https://colab.research.google.com/github/wevertonAraujo/imd_tec_002/blob/Meu-Ramo/aula2.ipynb\" target=\"_parent\"><img src=\"https://colab.research.google.com/assets/colab-badge.svg\" alt=\"Open In Colab\"/></a>"
      ]
    },
    {
      "cell_type": "markdown",
      "metadata": {
        "id": "ms-VkP5DM0V8",
        "colab_type": "text"
      },
      "source": [
        "Aula 02"
      ]
    },
    {
      "cell_type": "code",
      "metadata": {
        "id": "yWEjITA8M3MB",
        "colab_type": "code",
        "colab": {}
      },
      "source": [
        "# Importando as Bibiotecas\n",
        "import pandas as pd"
      ],
      "execution_count": 1,
      "outputs": []
    }
  ]
}